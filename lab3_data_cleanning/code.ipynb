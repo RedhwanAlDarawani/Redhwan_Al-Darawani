{
 "cells": [
  {
   "cell_type": "code",
   "execution_count": null,
   "metadata": {},
   "outputs": [],
   "source": [
    "import pandas as pd"
   ]
  },
  {
   "cell_type": "code",
   "execution_count": null,
   "metadata": {},
   "outputs": [
    {
     "data": {
      "text/html": [
       "<div>\n",
       "<style scoped>\n",
       "    .dataframe tbody tr th:only-of-type {\n",
       "        vertical-align: middle;\n",
       "    }\n",
       "\n",
       "    .dataframe tbody tr th {\n",
       "        vertical-align: top;\n",
       "    }\n",
       "\n",
       "    .dataframe thead th {\n",
       "        text-align: right;\n",
       "    }\n",
       "</style>\n",
       "<table border=\"1\" class=\"dataframe\">\n",
       "  <thead>\n",
       "    <tr style=\"text-align: right;\">\n",
       "      <th></th>\n",
       "      <th>tconst</th>\n",
       "      <th>S</th>\n",
       "      <th>E</th>\n",
       "      <th>TVShow</th>\n",
       "      <th>Episode</th>\n",
       "      <th>year</th>\n",
       "      <th>minutes</th>\n",
       "      <th>averageRating</th>\n",
       "      <th>numVotes</th>\n",
       "    </tr>\n",
       "  </thead>\n",
       "  <tbody>\n",
       "    <tr>\n",
       "      <th>0</th>\n",
       "      <td>tt0017618</td>\n",
       "      <td>1.0</td>\n",
       "      <td>5.0</td>\n",
       "      <td>Oswald the Lucky Rabbit</td>\n",
       "      <td>S01E05 All Wet</td>\n",
       "      <td>1927</td>\n",
       "      <td>7</td>\n",
       "      <td>6</td>\n",
       "      <td>297</td>\n",
       "    </tr>\n",
       "    <tr>\n",
       "      <th>1</th>\n",
       "      <td>tt0017660</td>\n",
       "      <td>1.0</td>\n",
       "      <td>7.0</td>\n",
       "      <td>Oswald the Lucky Rabbit</td>\n",
       "      <td>S01E07 The Banker's Daughter</td>\n",
       "      <td>1927</td>\n",
       "      <td>7</td>\n",
       "      <td>5.6</td>\n",
       "      <td>24</td>\n",
       "    </tr>\n",
       "    <tr>\n",
       "      <th>2</th>\n",
       "      <td>tt0017847</td>\n",
       "      <td>1.0</td>\n",
       "      <td>8.0</td>\n",
       "      <td>Oswald the Lucky Rabbit</td>\n",
       "      <td>S01E08 Empty Socks</td>\n",
       "      <td>1927</td>\n",
       "      <td>6</td>\n",
       "      <td>6.1</td>\n",
       "      <td>55</td>\n",
       "    </tr>\n",
       "    <tr>\n",
       "      <th>3</th>\n",
       "      <td>tt0017949</td>\n",
       "      <td>1.0</td>\n",
       "      <td>4.0</td>\n",
       "      <td>Oswald the Lucky Rabbit</td>\n",
       "      <td>S01E04 Great Guns</td>\n",
       "      <td>1927</td>\n",
       "      <td>7</td>\n",
       "      <td>6</td>\n",
       "      <td>277</td>\n",
       "    </tr>\n",
       "    <tr>\n",
       "      <th>4</th>\n",
       "      <td>tt0018150</td>\n",
       "      <td>1.0</td>\n",
       "      <td>3.0</td>\n",
       "      <td>Oswald the Lucky Rabbit</td>\n",
       "      <td>S01E03 The Mechanical Cow</td>\n",
       "      <td>1927</td>\n",
       "      <td>6</td>\n",
       "      <td>6.1</td>\n",
       "      <td>312</td>\n",
       "    </tr>\n",
       "    <tr>\n",
       "      <th>...</th>\n",
       "      <td>...</td>\n",
       "      <td>...</td>\n",
       "      <td>...</td>\n",
       "      <td>...</td>\n",
       "      <td>...</td>\n",
       "      <td>...</td>\n",
       "      <td>...</td>\n",
       "      <td>...</td>\n",
       "      <td>...</td>\n",
       "    </tr>\n",
       "    <tr>\n",
       "      <th>1048570</th>\n",
       "      <td>tt11332390</td>\n",
       "      <td>0.0</td>\n",
       "      <td>0.0</td>\n",
       "      <td>Jornal das 8</td>\n",
       "      <td>\\N</td>\n",
       "      <td>2019</td>\n",
       "      <td>\\N</td>\n",
       "      <td>\\N</td>\n",
       "      <td>\\N</td>\n",
       "    </tr>\n",
       "    <tr>\n",
       "      <th>1048571</th>\n",
       "      <td>tt11332394</td>\n",
       "      <td>4.0</td>\n",
       "      <td>46.0</td>\n",
       "      <td>Outsiders</td>\n",
       "      <td>S04E46 Episode #4.46</td>\n",
       "      <td>2019</td>\n",
       "      <td>120</td>\n",
       "      <td>\\N</td>\n",
       "      <td>\\N</td>\n",
       "    </tr>\n",
       "    <tr>\n",
       "      <th>1048572</th>\n",
       "      <td>tt1133239</td>\n",
       "      <td>15.0</td>\n",
       "      <td>8.0</td>\n",
       "      <td>Survivor</td>\n",
       "      <td>S15E08 High School Friend Contest</td>\n",
       "      <td>2007</td>\n",
       "      <td>44</td>\n",
       "      <td>7.9</td>\n",
       "      <td>118</td>\n",
       "    </tr>\n",
       "    <tr>\n",
       "      <th>1048573</th>\n",
       "      <td>tt11332402</td>\n",
       "      <td>3.0</td>\n",
       "      <td>9.0</td>\n",
       "      <td>Dynasty</td>\n",
       "      <td>S03E09 The Caviar, I Trust, Is Not Burned</td>\n",
       "      <td>2020</td>\n",
       "      <td>42</td>\n",
       "      <td>8</td>\n",
       "      <td>438</td>\n",
       "    </tr>\n",
       "    <tr>\n",
       "      <th>1048574</th>\n",
       "      <td>tt11332404</td>\n",
       "      <td>0.0</td>\n",
       "      <td>0.0</td>\n",
       "      <td>Grande Tarde</td>\n",
       "      <td>\\N</td>\n",
       "      <td>2015</td>\n",
       "      <td>\\N</td>\n",
       "      <td>\\N</td>\n",
       "      <td>\\N</td>\n",
       "    </tr>\n",
       "  </tbody>\n",
       "</table>\n",
       "<p>1048575 rows × 9 columns</p>\n",
       "</div>"
      ],
      "text/plain": [
       "             tconst     S     E                   TVShow  \\\n",
       "0         tt0017618   1.0   5.0  Oswald the Lucky Rabbit   \n",
       "1         tt0017660   1.0   7.0  Oswald the Lucky Rabbit   \n",
       "2         tt0017847   1.0   8.0  Oswald the Lucky Rabbit   \n",
       "3         tt0017949   1.0   4.0  Oswald the Lucky Rabbit   \n",
       "4         tt0018150   1.0   3.0  Oswald the Lucky Rabbit   \n",
       "...             ...   ...   ...                      ...   \n",
       "1048570  tt11332390   0.0   0.0             Jornal das 8   \n",
       "1048571  tt11332394   4.0  46.0                Outsiders   \n",
       "1048572   tt1133239  15.0   8.0                 Survivor   \n",
       "1048573  tt11332402   3.0   9.0                  Dynasty   \n",
       "1048574  tt11332404   0.0   0.0             Grande Tarde   \n",
       "\n",
       "                                           Episode  year minutes  \\\n",
       "0                                   S01E05 All Wet  1927       7   \n",
       "1                     S01E07 The Banker's Daughter  1927       7   \n",
       "2                               S01E08 Empty Socks  1927       6   \n",
       "3                                S01E04 Great Guns  1927       7   \n",
       "4                        S01E03 The Mechanical Cow  1927       6   \n",
       "...                                            ...   ...     ...   \n",
       "1048570                                         \\N  2019      \\N   \n",
       "1048571                       S04E46 Episode #4.46  2019     120   \n",
       "1048572          S15E08 High School Friend Contest  2007      44   \n",
       "1048573  S03E09 The Caviar, I Trust, Is Not Burned  2020      42   \n",
       "1048574                                         \\N  2015      \\N   \n",
       "\n",
       "        averageRating numVotes  \n",
       "0                   6      297  \n",
       "1                 5.6       24  \n",
       "2                 6.1       55  \n",
       "3                   6      277  \n",
       "4                 6.1      312  \n",
       "...               ...      ...  \n",
       "1048570            \\N       \\N  \n",
       "1048571            \\N       \\N  \n",
       "1048572           7.9      118  \n",
       "1048573             8      438  \n",
       "1048574            \\N       \\N  \n",
       "\n",
       "[1048575 rows x 9 columns]"
      ]
     },
     "execution_count": 52,
     "metadata": {},
     "output_type": "execute_result"
    }
   ],
   "source": [
    "df = pd.read_csv(\"../datasets/TVShows.csv\")\n",
    "df"
   ]
  },
  {
   "cell_type": "code",
   "execution_count": null,
   "metadata": {},
   "outputs": [],
   "source": [
    "df=df.dropna(inplace=True)\n"
   ]
  },
  {
   "cell_type": "code",
   "execution_count": null,
   "metadata": {},
   "outputs": [
    {
     "ename": "TypeError",
     "evalue": "'NoneType' object is not subscriptable",
     "output_type": "error",
     "traceback": [
      "\u001b[1;31m---------------------------------------------------------------------------\u001b[0m",
      "\u001b[1;31mTypeError\u001b[0m                                 Traceback (most recent call last)",
      "Cell \u001b[1;32mIn[58], line 2\u001b[0m\n\u001b[0;32m      1\u001b[0m \u001b[38;5;66;03m# Example for debugging one pattern at a time\u001b[39;00m\n\u001b[1;32m----> 2\u001b[0m df[\u001b[38;5;124m\"\u001b[39m\u001b[38;5;124mTVShow\u001b[39m\u001b[38;5;124m\"\u001b[39m] \u001b[38;5;241m=\u001b[39m \u001b[43mdf\u001b[49m\u001b[43m[\u001b[49m\u001b[38;5;124;43m\"\u001b[39;49m\u001b[38;5;124;43mTVShow\u001b[39;49m\u001b[38;5;124;43m\"\u001b[39;49m\u001b[43m]\u001b[49m\u001b[38;5;241m.\u001b[39mreplace(\u001b[38;5;124m\"\u001b[39m\u001b[38;5;124m\\\u001b[39m\u001b[38;5;124mW\u001b[39m\u001b[38;5;124m\"\u001b[39m, \u001b[38;5;124m\"\u001b[39m\u001b[38;5;124m\"\u001b[39m, regex\u001b[38;5;241m=\u001b[39m\u001b[38;5;28;01mTrue\u001b[39;00m)\n\u001b[0;32m      4\u001b[0m df[\u001b[38;5;124m'\u001b[39m\u001b[38;5;124mTVShow\u001b[39m\u001b[38;5;124m'\u001b[39m] \u001b[38;5;241m=\u001b[39m df[\u001b[38;5;124m'\u001b[39m\u001b[38;5;124mTVShow\u001b[39m\u001b[38;5;124m'\u001b[39m]\u001b[38;5;241m.\u001b[39mstr\u001b[38;5;241m.\u001b[39mstrip()\n\u001b[0;32m      5\u001b[0m df[\u001b[38;5;124m'\u001b[39m\u001b[38;5;124mTVShow\u001b[39m\u001b[38;5;124m'\u001b[39m] \u001b[38;5;241m=\u001b[39m df[\u001b[38;5;124m'\u001b[39m\u001b[38;5;124mTVShow\u001b[39m\u001b[38;5;124m'\u001b[39m]\u001b[38;5;241m.\u001b[39mstr\u001b[38;5;241m.\u001b[39mlower()\n",
      "\u001b[1;31mTypeError\u001b[0m: 'NoneType' object is not subscriptable"
     ]
    }
   ],
   "source": [
    "# Example for debugging one pattern at a time\n",
    "df[\"TVShow\"] = df[\"TVShow\"].replace(\"\\W\", \"\", regex=True)\n",
    "\n",
    "df['TVShow'] = df['TVShow'].str.strip()\n",
    "df['TVShow'] = df['TVShow'].str.lower()\n",
    "df"
   ]
  },
  {
   "cell_type": "code",
   "execution_count": null,
   "metadata": {},
   "outputs": [
    {
     "ename": "AttributeError",
     "evalue": "'NoneType' object has no attribute 'drop'",
     "output_type": "error",
     "traceback": [
      "\u001b[1;31m---------------------------------------------------------------------------\u001b[0m",
      "\u001b[1;31mAttributeError\u001b[0m                            Traceback (most recent call last)",
      "Cell \u001b[1;32mIn[55], line 1\u001b[0m\n\u001b[1;32m----> 1\u001b[0m df \u001b[38;5;241m=\u001b[39m \u001b[43mdf\u001b[49m\u001b[38;5;241;43m.\u001b[39;49m\u001b[43mdrop\u001b[49m([\u001b[38;5;124m\"\u001b[39m\u001b[38;5;124mS\u001b[39m\u001b[38;5;124m\"\u001b[39m,\u001b[38;5;124m\"\u001b[39m\u001b[38;5;124mE\u001b[39m\u001b[38;5;124m\"\u001b[39m], axis \u001b[38;5;241m=\u001b[39m \u001b[38;5;241m1\u001b[39m)\n\u001b[0;32m      2\u001b[0m df\n",
      "\u001b[1;31mAttributeError\u001b[0m: 'NoneType' object has no attribute 'drop'"
     ]
    }
   ],
   "source": [
    "df = df.drop([\"S\",\"E\"], axis = 1)\n",
    "df"
   ]
  },
  {
   "cell_type": "code",
   "execution_count": null,
   "metadata": {},
   "outputs": [],
   "source": [
    "df.rename(columns={\"tconst\":\"id\"},inplace=True)\n",
    "df"
   ]
  },
  {
   "cell_type": "code",
   "execution_count": null,
   "metadata": {},
   "outputs": [],
   "source": [
    "df['averageRating'] = pd.to_numeric(df['averageRating'],errors=\"coerce\")\n",
    "df=df.dropna(subset=[\"averageRating\"]).astype({\"averageRating\":\"float\"})\n",
    "df[\"averageRating\"]"
   ]
  },
  {
   "cell_type": "code",
   "execution_count": null,
   "metadata": {},
   "outputs": [],
   "source": [
    "df['year'] = pd.to_numeric(df['year'],errors=\"coerce\")\n",
    "df=df.dropna(subset=[\"year\"]).astype({\"year\":\"int\"})\n",
    "df[\"year\"]"
   ]
  },
  {
   "cell_type": "code",
   "execution_count": null,
   "metadata": {},
   "outputs": [],
   "source": [
    "df['minutes'] = pd.to_numeric(df['minutes'],errors=\"coerce\")\n",
    "df=df.dropna(subset=[\"minutes\"]).astype({\"minutes\":\"int\"})\n",
    "print(df[\"minutes\"])"
   ]
  },
  {
   "cell_type": "code",
   "execution_count": null,
   "metadata": {},
   "outputs": [],
   "source": [
    "for x in df.index:\n",
    "  if df.loc[x, \"year\"] > 2020:\n",
    "    df.loc[x, \"year\"] = 2020\n",
    "  elif df.loc[x,\"year\"]<1950:\n",
    "    df.loc[x,\"year\"]=1950\n",
    "df"
   ]
  },
  {
   "cell_type": "code",
   "execution_count": null,
   "metadata": {},
   "outputs": [
    {
     "ename": "AttributeError",
     "evalue": "'NoneType' object has no attribute 'to_csv'",
     "output_type": "error",
     "traceback": [
      "\u001b[1;31m---------------------------------------------------------------------------\u001b[0m",
      "\u001b[1;31mAttributeError\u001b[0m                            Traceback (most recent call last)",
      "Cell \u001b[1;32mIn[56], line 1\u001b[0m\n\u001b[1;32m----> 1\u001b[0m df \u001b[38;5;241m=\u001b[39m \u001b[43mdf\u001b[49m\u001b[38;5;241;43m.\u001b[39;49m\u001b[43mto_csv\u001b[49m(\u001b[38;5;124m\"\u001b[39m\u001b[38;5;124mTVShows_new.csv\u001b[39m\u001b[38;5;124m\"\u001b[39m)\n\u001b[0;32m      3\u001b[0m df \u001b[38;5;241m=\u001b[39m pd\u001b[38;5;241m.\u001b[39mread_csv(\u001b[38;5;124m\"\u001b[39m\u001b[38;5;124mTVShows.csv\u001b[39m\u001b[38;5;124m\"\u001b[39m)\n\u001b[0;32m      4\u001b[0m df\n",
      "\u001b[1;31mAttributeError\u001b[0m: 'NoneType' object has no attribute 'to_csv'"
     ]
    }
   ],
   "source": [
    "df = df.to_csv(\"TVShows_new.csv\")\n",
    "\n",
    "df = pd.read_csv(\"TVShows.csv\")\n",
    "df"
   ]
  }
 ],
 "metadata": {
  "kernelspec": {
   "display_name": "Python 3",
   "language": "python",
   "name": "python3"
  },
  "language_info": {
   "codemirror_mode": {
    "name": "ipython",
    "version": 3
   },
   "file_extension": ".py",
   "mimetype": "text/x-python",
   "name": "python",
   "nbconvert_exporter": "python",
   "pygments_lexer": "ipython3",
   "version": "3.9.6"
  }
 },
 "nbformat": 4,
 "nbformat_minor": 2
}
